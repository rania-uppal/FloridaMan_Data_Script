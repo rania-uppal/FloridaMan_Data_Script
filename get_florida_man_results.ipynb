{
  "nbformat": 4,
  "nbformat_minor": 0,
  "metadata": {
    "colab": {
      "provenance": [],
      "authorship_tag": "ABX9TyOtZeiu4WFWvUfxTvyUfkNa",
      "include_colab_link": true
    },
    "kernelspec": {
      "name": "python3",
      "display_name": "Python 3"
    },
    "language_info": {
      "name": "python"
    }
  },
  "cells": [
    {
      "cell_type": "markdown",
      "metadata": {
        "id": "view-in-github",
        "colab_type": "text"
      },
      "source": [
        "<a href=\"https://colab.research.google.com/github/rania-uppal/FloridaMan_Data_Script/blob/main/get_florida_man_results.ipynb\" target=\"_parent\"><img src=\"https://colab.research.google.com/assets/colab-badge.svg\" alt=\"Open In Colab\"/></a>"
      ]
    },
    {
      "cell_type": "code",
      "execution_count": null,
      "metadata": {
        "colab": {
          "base_uri": "https://localhost:8080/"
        },
        "id": "1oj-Rz4PkUFD",
        "outputId": "64632fd8-3eb5-43db-8fdf-b4c1719fd35c"
      },
      "outputs": [
        {
          "output_type": "stream",
          "name": "stdout",
          "text": [
            "CSV file 'florida_man_data.csv' created successfully!\n"
          ]
        }
      ],
      "source": [
        "import csv\n",
        "import datetime\n",
        "from bs4 import BeautifulSoup\n",
        "import requests\n",
        "import pdb\n",
        "\n",
        "def get_top_florida_man_link(date):\n",
        "    month = date.strftime(\"%m\")\n",
        "    day = date.strftime(\"%d\")\n",
        "    formatted_date = date.strftime(\"%m %d\")\n",
        "    search_query = f\"florida+man+{month}+{day}\"\n",
        "    url = f\"https://www.google.com/search?q={search_query}\"\n",
        "    headers = {\n",
        "        \"User-Agent\": \"Mozilla/5.0 (Windows NT 10.0;Win64) AppleWebkit/537.36 (KHTML, like Gecko) Chrome/89.0.4389.82 Safari/537.36\"\n",
        "    }\n",
        "    response = requests.get(url, headers=headers)\n",
        "    soup = BeautifulSoup(response.text, \"html.parser\")\n",
        "    link = soup.find(\"div\", class_=\"yuRUbf\")\n",
        "    if link is not None:\n",
        "      link = link.a[\"href\"]\n",
        "    else:\n",
        "      link = \"https://en.wikipedia.org/wiki/Florida_Man\"\n",
        "    # link = soup.find(\"div\", class_=\"yuRUbf\").a[\"href\"]\n",
        "    return link\n",
        "\n",
        "def get_headline(link):\n",
        "    headers = {\n",
        "        \"User-Agent\": \"Mozilla/5.0 (Windows NT 10.0;Win64) AppleWebkit/537.36 (KHTML, like Gecko) Chrome/89.0.4389.82 Safari/537.36\"\n",
        "    }\n",
        "    response = requests.get(link, headers=headers)\n",
        "    soup = BeautifulSoup(response.text, \"html.parser\")\n",
        "    headline = soup.find(\"h1\")\n",
        "    if headline is not None:\n",
        "      headline = headline.get_text()\n",
        "      # headline = soup.find(\"h1\").get_text()\n",
        "    else:\n",
        "      headline = \"cheeky preview\"\n",
        "    return headline\n",
        "\n",
        "# Generate the data\n",
        "data = []\n",
        "start_date = datetime.date(2023, 1, 1)\n",
        "end_date = datetime.date(2023, 12, 31)\n",
        "delta = datetime.timedelta(days=1)\n",
        "\n",
        "current_date = start_date\n",
        "while current_date <= end_date:\n",
        "    # pdb.set_trace()\n",
        "    link = get_top_florida_man_link(current_date)\n",
        "    headline = get_headline(link)\n",
        "    month = current_date.strftime(\"%m\")\n",
        "    day = current_date.strftime(\"%d\")\n",
        "    date = f\"{month}/{day}\"\n",
        "    data.append([date, link, headline])\n",
        "    current_date += delta\n",
        "\n",
        "# Save data to CSV file\n",
        "filename = \"florida_man_data.csv\"\n",
        "with open(filename, \"w\", newline=\"\") as file:\n",
        "    writer = csv.writer(file)\n",
        "    writer.writerow([\"Date\", \"Link\", \"Headline\"])  # Write header\n",
        "    writer.writerows(data)  # Write data rows\n",
        "\n",
        "print(f\"CSV file '{filename}' created successfully!\")\n"
      ]
    },
    {
      "cell_type": "code",
      "source": [
        "import os\n",
        "cwd = os.getcwd()\n",
        "print(\"CSV file saved in:\", cwd)"
      ],
      "metadata": {
        "colab": {
          "base_uri": "https://localhost:8080/"
        },
        "id": "dUIizav8pOZs",
        "outputId": "39bc6ab8-475b-4e48-86d8-d74c830a9ee3"
      },
      "execution_count": null,
      "outputs": [
        {
          "output_type": "stream",
          "name": "stdout",
          "text": [
            "CSV file saved in: /content\n"
          ]
        }
      ]
    }
  ]
}